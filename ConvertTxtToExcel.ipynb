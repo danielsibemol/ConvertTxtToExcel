{
 "cells": [
  {
   "cell_type": "code",
   "execution_count": 77,
   "id": "670a7ced",
   "metadata": {},
   "outputs": [],
   "source": [
    "import pandas as pd"
   ]
  },
  {
   "cell_type": "code",
   "execution_count": 87,
   "id": "19813647",
   "metadata": {
    "scrolled": true
   },
   "outputs": [],
   "source": [
    "def ConvertTxtToExcel(inputFileName,outputFileName):\n",
    "    Data = pd.read_table(inputFileName,header=None)\n",
    "\n",
    "    Mask = Data.iloc[:,0].str.contains(\"E15\")\n",
    "\n",
    "    FilteredData=Data[Mask]\n",
    "\n",
    "    Indices = [0,3,23,26,44,46,52,58,61,75,175,182,185,193,201,209,223,230,231,238,251,264,265,266,267]\n",
    "    Names = [\"Tipo\",\n",
    "             \"Fabricação\",\n",
    "             \"MF\",\n",
    "             \"Modelo\",\n",
    "             \"Usuário\",\n",
    "             \"COO\",\n",
    "             \"CCF\",\n",
    "             \"Item\",\n",
    "             \"Código\",\n",
    "             \"Descrição\",\n",
    "             \"Quantidade\",\n",
    "             \"Unidade\",\n",
    "             \"Vlr. Unit.\",\n",
    "             \"Desconto\",\n",
    "             \"Acréscimo\",\n",
    "             \"Vlr. Tot. Líq.\",\n",
    "             \"Trib.\",\n",
    "             \"Cancelamento\",\n",
    "             \"Quant. Canc.\",\n",
    "             \"Vlr. Canc.\",\n",
    "             \"Canc. de Acr.\",\n",
    "             \"IAT\",\n",
    "             \"Casas decimais da quantidade\",\n",
    "             \"Casas decimais de valor unitário\",\n",
    "            ]\n",
    "    ArrangedData = pd.DataFrame({})\n",
    "    for i in range(len(Indices) - 1):\n",
    "        ArrangedData[Names[i]] = FilteredData[0].str[Indices[i]:Indices[i+1]]\n",
    "\n",
    "    ArrangedData[\"Vlr. Unit.\"] = ArrangedData[\"Vlr. Unit.\"].astype(float)/1000.\n",
    "    ArrangedData[\"Vlr. Tot. Líq.\"] = ArrangedData[\"Vlr. Tot. Líq.\"].astype(float)/100.\n",
    "    Mask = ArrangedData[\"Trib.\"].str.startswith(\"02T\") | ArrangedData[\"Trib.\"].str.startswith(\"03T\") | ArrangedData[\"Trib.\"].str.startswith(\"04T\")  \n",
    "\n",
    "    ArrangedData[\"Trib.\"], ArrangedData[\"Alíquota(%)\"] = ArrangedData[\"Trib.\"].str[0:2], ArrangedData[\"Trib.\"].where(Mask, other = \"0000\").str[3:]\n",
    "\n",
    "    ArrangedData[\"Alíquota(%)\"] = ArrangedData[\"Alíquota(%)\"].astype(float)/100.\n",
    "    ArrangedData[\"ICMS\"] = ArrangedData[\"Vlr. Tot. Líq.\"]*ArrangedData[\"Alíquota(%)\"]/100.\n",
    "    ArrangedData[\"ICMS\"] = ArrangedData[\"ICMS\"].round(2)\n",
    "    ArrangedData = ArrangedData.reindex(columns = [\"Tipo\",\n",
    "             \"Fabricação\",\n",
    "             \"MF\",\n",
    "             \"Modelo\",\n",
    "             \"Usuário\",\n",
    "             \"COO\",\n",
    "             \"CCF\",\n",
    "             \"Item\",\n",
    "             \"Código\",\n",
    "             \"Descrição\",\n",
    "             \"Quantidade\",\n",
    "             \"Unidade\",\n",
    "             \"Vlr. Unit.\",\n",
    "             \"Desconto\",\n",
    "             \"Acréscimo\",\n",
    "             \"Vlr. Tot. Líq.\",\n",
    "             \"Trib.\",\n",
    "             \"Alíquota(%)\",\n",
    "             \"ICMS\",\n",
    "             \"Cancelamento\",\n",
    "             \"Quant. Canc.\",\n",
    "             \"Vlr. Canc.\",\n",
    "             \"Canc. de Acr.\",\n",
    "             \"IAT\",\n",
    "             \"Casas decimais da quantidade\",\n",
    "             \"Casas decimais de valor unitário\",\n",
    "            ])\n",
    "    ArrangedData.to_excel(outputFileName)"
   ]
  },
  {
   "cell_type": "code",
   "execution_count": 88,
   "id": "8d20845d",
   "metadata": {},
   "outputs": [],
   "source": [
    "ConvertTxtToExcel(\"/path/to/input/file.txt\",\"/path/to/output/file.xlsx\")"
   ]
  },
  {
   "cell_type": "code",
   "execution_count": null,
   "id": "e70c4761",
   "metadata": {},
   "outputs": [],
   "source": []
  }
 ],
 "metadata": {
  "kernelspec": {
   "display_name": "Python 3 (ipykernel)",
   "language": "python",
   "name": "python3"
  },
  "language_info": {
   "codemirror_mode": {
    "name": "ipython",
    "version": 3
   },
   "file_extension": ".py",
   "mimetype": "text/x-python",
   "name": "python",
   "nbconvert_exporter": "python",
   "pygments_lexer": "ipython3",
   "version": "3.9.10"
  }
 },
 "nbformat": 4,
 "nbformat_minor": 5
}
